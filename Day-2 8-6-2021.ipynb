{
 "cells": [
  {
   "cell_type": "markdown",
   "id": "07b4fd2c",
   "metadata": {},
   "source": [
    "# Write a program to check wheather the user eligible for vote or not"
   ]
  },
  {
   "cell_type": "code",
   "execution_count": 4,
   "id": "7649e111",
   "metadata": {},
   "outputs": [
    {
     "name": "stdout",
     "output_type": "stream",
     "text": [
      "Enter your age: 20\n",
      "You are eligible to vote\n"
     ]
    }
   ],
   "source": [
    "age = int(input(\"Enter your age: \"))\n",
    "print(\"You are eligible to vote\" if age >= 18 else \"You are not eligible to vote\")"
   ]
  },
  {
   "cell_type": "markdown",
   "id": "f2272c25",
   "metadata": {},
   "source": [
    "# Check the given number is positive or negative"
   ]
  },
  {
   "cell_type": "code",
   "execution_count": 14,
   "id": "fa1468d2",
   "metadata": {},
   "outputs": [
    {
     "name": "stdout",
     "output_type": "stream",
     "text": [
      "Enter a number: 352\n",
      "Positive number\n"
     ]
    }
   ],
   "source": [
    "number = int(input(\"Enter a number: \"))\n",
    "print(\"Positive number\" if number >= 0 else \"Negative number\")"
   ]
  },
  {
   "cell_type": "markdown",
   "id": "c6ec37d3",
   "metadata": {},
   "source": [
    "# Check the given number is even or odd if it's even check which is divisible by 4 or not"
   ]
  },
  {
   "cell_type": "code",
   "execution_count": 9,
   "id": "daef7949",
   "metadata": {},
   "outputs": [
    {
     "name": "stdout",
     "output_type": "stream",
     "text": [
      "Enter a number: 3\n",
      "The number is odd\n"
     ]
    }
   ],
   "source": [
    "number = int(input(\"Enter a number: \"))\n",
    "if number % 2 == 0:\n",
    "    if number % 4 == 0: print(\"The number is divisible by 2 and 4\")\n",
    "    else: print(\"The number is divisible by 2 and not divisible by 4\")\n",
    "else:\n",
    "    print(\"The number is odd\")"
   ]
  },
  {
   "cell_type": "markdown",
   "id": "4c7c927b",
   "metadata": {},
   "source": [
    "# Write a program to print student grade based on persentage like distinction, pass or fail"
   ]
  },
  {
   "cell_type": "code",
   "execution_count": 13,
   "id": "9012b106",
   "metadata": {
    "scrolled": true
   },
   "outputs": [
    {
     "name": "stdout",
     "output_type": "stream",
     "text": [
      "Enter your percentage: 32.42\n",
      "Fail\n"
     ]
    }
   ],
   "source": [
    "percentage = float(input(\"Enter your percentage: \"))\n",
    "if percentage >= 90: print(\"Distinction\")\n",
    "elif percentage < 90 and percentage > 36: print(\"Pass\")\n",
    "else: print(\"Fail\")"
   ]
  },
  {
   "cell_type": "markdown",
   "id": "1b97cd6d",
   "metadata": {},
   "source": [
    "# Check the given year is Leap or not"
   ]
  },
  {
   "cell_type": "code",
   "execution_count": 16,
   "id": "82c7ca15",
   "metadata": {},
   "outputs": [
    {
     "name": "stdout",
     "output_type": "stream",
     "text": [
      "Enter a year: 2000\n",
      "The given year is a leap year\n"
     ]
    }
   ],
   "source": [
    "year = int(input(\"Enter a year: \"))\n",
    "\n",
    "if year % 4 == 0:\n",
    "    if year % 100 == 0:\n",
    "        if year % 400 == 0: print(\"The given year is a leap year\")\n",
    "        else: print(\"The given year is not a leap year\")\n",
    "    else: print(\"The given year is a leap year\")\n",
    "else: print(\"The given year is not a leap year\")"
   ]
  }
 ],
 "metadata": {
  "kernelspec": {
   "display_name": "Python 3",
   "language": "python",
   "name": "python3"
  },
  "language_info": {
   "codemirror_mode": {
    "name": "ipython",
    "version": 3
   },
   "file_extension": ".py",
   "mimetype": "text/x-python",
   "name": "python",
   "nbconvert_exporter": "python",
   "pygments_lexer": "ipython3",
   "version": "3.7.4"
  }
 },
 "nbformat": 4,
 "nbformat_minor": 5
}
