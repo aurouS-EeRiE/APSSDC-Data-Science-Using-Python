{
 "cells": [
  {
   "cell_type": "markdown",
   "id": "fc559783",
   "metadata": {},
   "source": [
    "# Task"
   ]
  },
  {
   "cell_type": "code",
   "execution_count": 10,
   "id": "7b5d84f6",
   "metadata": {
    "scrolled": true
   },
   "outputs": [
    {
     "name": "stdout",
     "output_type": "stream",
     "text": [
      "Enter your roll number: AP19110010013\n",
      "CSE Department\n"
     ]
    }
   ],
   "source": [
    "reg_num = str(input(\"Enter your roll number: \"))\n",
    "if reg_num[-3:].startswith('01'): print(\"CSE Department\")\n",
    "elif reg_num[-3:].startswith('11'): print(\"IT Department\")\n",
    "elif reg_num[-3:].startswith('21'): print(\"ECE Department\")\n",
    "else: print(\"Not an SRM Student\")"
   ]
  },
  {
   "cell_type": "code",
   "execution_count": 11,
   "id": "de1d7e8c",
   "metadata": {},
   "outputs": [
    {
     "name": "stdout",
     "output_type": "stream",
     "text": [
      "Enter your roll number: AP19110010112\n",
      "IT Department\n"
     ]
    }
   ],
   "source": [
    "reg_num = str(input(\"Enter your roll number: \"))\n",
    "if reg_num[-3:].startswith('01'): print(\"CSE Department\")\n",
    "elif reg_num[-3:].startswith('11'): print(\"IT Department\")\n",
    "elif reg_num[-3:].startswith('21'): print(\"ECE Department\")\n",
    "else: print(\"Not an SRM Student\")"
   ]
  },
  {
   "cell_type": "code",
   "execution_count": 14,
   "id": "4db2e7a4",
   "metadata": {},
   "outputs": [
    {
     "name": "stdout",
     "output_type": "stream",
     "text": [
      "Enter your roll number: AP19110010217\n",
      "ECE Department\n"
     ]
    }
   ],
   "source": [
    "reg_num = str(input(\"Enter your roll number: \"))\n",
    "if reg_num[-3:].startswith('01'): print(\"CSE Department\")\n",
    "elif reg_num[-3:].startswith('11'): print(\"IT Department\")\n",
    "elif reg_num[-3:].startswith('21'): print(\"ECE Department\")\n",
    "else: print(\"Not an SRM Student\")"
   ]
  },
  {
   "cell_type": "code",
   "execution_count": 13,
   "id": "3ff0e53f",
   "metadata": {},
   "outputs": [
    {
     "name": "stdout",
     "output_type": "stream",
     "text": [
      "Enter your roll number: AP19110010223\n",
      "Not an SRM Student\n"
     ]
    }
   ],
   "source": [
    "reg_num = str(input(\"Enter your roll number: \"))\n",
    "if reg_num[-3:].startswith('01'): print(\"CSE Department\")\n",
    "elif reg_num[-3:].startswith('11'): print(\"IT Department\")\n",
    "elif reg_num[-3:].startswith('21'): print(\"ECE Department\")\n",
    "else: print(\"Not an SRM Student\")"
   ]
  }
 ],
 "metadata": {
  "kernelspec": {
   "display_name": "Python 3",
   "language": "python",
   "name": "python3"
  },
  "language_info": {
   "codemirror_mode": {
    "name": "ipython",
    "version": 3
   },
   "file_extension": ".py",
   "mimetype": "text/x-python",
   "name": "python",
   "nbconvert_exporter": "python",
   "pygments_lexer": "ipython3",
   "version": "3.7.4"
  }
 },
 "nbformat": 4,
 "nbformat_minor": 5
}
