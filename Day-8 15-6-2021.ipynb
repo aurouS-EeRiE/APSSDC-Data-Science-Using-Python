{
 "cells": [
  {
   "cell_type": "markdown",
   "id": "1e119046",
   "metadata": {},
   "source": [
    "# Create a function for finding the leap years within the given range"
   ]
  },
  {
   "cell_type": "code",
   "execution_count": 1,
   "id": "46111ed2",
   "metadata": {},
   "outputs": [
    {
     "name": "stdout",
     "output_type": "stream",
     "text": [
      "Enter the lower year: 1990\n",
      "Enter the higher year: 2001\n",
      "Leap years between 1990 and 2001 are: \n",
      "1992\n",
      "1996\n",
      "2000\n"
     ]
    }
   ],
   "source": [
    "def leap(year):\n",
    "    if year % 4 == 0 and year % 100 != 0 or year % 400 == 0: return True\n",
    "    else: return False\n",
    "\n",
    "start = int(input(\"Enter the lower year: \"))\n",
    "end = int(input(\"Enter the higher year: \"))\n",
    "\n",
    "print(\"Leap years between\", start, \"and\", end, \"are: \")\n",
    "\n",
    "for i in range(start, end):\n",
    "    if leap(i): print(i)"
   ]
  },
  {
   "cell_type": "markdown",
   "id": "a82933c6",
   "metadata": {},
   "source": [
    "# Create a function for getting the armstrong numbers within the given range"
   ]
  },
  {
   "cell_type": "code",
   "execution_count": 2,
   "id": "bb172ee5",
   "metadata": {},
   "outputs": [
    {
     "name": "stdout",
     "output_type": "stream",
     "text": [
      "Enter your lower value: 100\n",
      "Enter your higher value: 1000\n",
      "153\n",
      "370\n",
      "371\n",
      "407\n"
     ]
    }
   ],
   "source": [
    "def armstrong(a, b):\n",
    "    for i in range(a, b+1):\n",
    "        num = i\n",
    "        result = 0\n",
    "        n = len(str(i))\n",
    "        while i != 0:\n",
    "            digit = i % 10\n",
    "            result = result + digit ** n\n",
    "            i = i//10\n",
    "        if num == result:\n",
    "            print(num)\n",
    "\n",
    "start = int(input(\"Enter your lower value: \"))\n",
    "end = int(input(\"Enter your higher value: \"))\n",
    "armstrong(start, end)"
   ]
  },
  {
   "cell_type": "markdown",
   "id": "fa661c94",
   "metadata": {},
   "source": [
    "# Create a function for getting the prime numbers within the range"
   ]
  },
  {
   "cell_type": "code",
   "execution_count": 3,
   "id": "f3604ff5",
   "metadata": {},
   "outputs": [
    {
     "name": "stdout",
     "output_type": "stream",
     "text": [
      "Enter your lower range: 10\n",
      "Enter your upper range: 50\n",
      "11 is a prime number\n",
      "13 is a prime number\n",
      "17 is a prime number\n",
      "19 is a prime number\n",
      "23 is a prime number\n",
      "29 is a prime number\n",
      "31 is a prime number\n",
      "37 is a prime number\n",
      "41 is a prime number\n",
      "43 is a prime number\n",
      "47 is a prime number\n"
     ]
    }
   ],
   "source": [
    "def prime(a, b):\n",
    "    for n in range(a, b+1):\n",
    "        for i in range(2, n):\n",
    "            if n % i == 0:\n",
    "                break\n",
    "        else:\n",
    "            print(n, \"is a prime number\")\n",
    "\n",
    "lower = int(input(\"Enter your lower range: \"))\n",
    "upper = int(input(\"Enter your upper range: \"))\n",
    "\n",
    "prime(lower, upper)"
   ]
  },
  {
   "cell_type": "markdown",
   "id": "40938f57",
   "metadata": {},
   "source": [
    "# Create a function for finding the count of elements in a string.\"Srm university\""
   ]
  },
  {
   "cell_type": "code",
   "execution_count": 4,
   "id": "56102cbf",
   "metadata": {},
   "outputs": [
    {
     "name": "stdout",
     "output_type": "stream",
     "text": [
      "Enter your value: SRM UNIVERSITY\n",
      "Number of elements in your string is:  {'S': 2, 'R': 2, 'M': 1, ' ': 1, 'U': 1, 'N': 1, 'I': 2, 'V': 1, 'E': 1, 'T': 1, 'Y': 1}\n"
     ]
    }
   ],
   "source": [
    "def count_string(s):\n",
    "    res={}\n",
    "    for i in s:\n",
    "        if i in res:\n",
    "            res[i]+=1\n",
    "        else:\n",
    "            res[i]=1\n",
    "    return res\n",
    "\n",
    "string = input(\"Enter your value: \")\n",
    "print(\"Number of elements in your string is: \", count_string(string))"
   ]
  }
 ],
 "metadata": {
  "kernelspec": {
   "display_name": "Python 3",
   "language": "python",
   "name": "python3"
  },
  "language_info": {
   "codemirror_mode": {
    "name": "ipython",
    "version": 3
   },
   "file_extension": ".py",
   "mimetype": "text/x-python",
   "name": "python",
   "nbconvert_exporter": "python",
   "pygments_lexer": "ipython3",
   "version": "3.7.4"
  }
 },
 "nbformat": 4,
 "nbformat_minor": 5
}
