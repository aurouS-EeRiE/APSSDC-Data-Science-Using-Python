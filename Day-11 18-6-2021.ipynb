{
 "cells": [
  {
   "cell_type": "markdown",
   "id": "45cc7cdb",
   "metadata": {},
   "source": [
    "# Task 1 - Write a program for getting the last five lines from the file"
   ]
  },
  {
   "cell_type": "code",
   "execution_count": 1,
   "id": "d1081210",
   "metadata": {},
   "outputs": [
    {
     "name": "stdout",
     "output_type": "stream",
     "text": [
      "mangoes\n",
      "\n",
      "Ice cream\n",
      "\n",
      "Cool drink\n",
      "\n",
      "pepsi\n",
      "\n",
      "kiwi\n"
     ]
    },
    {
     "data": {
      "text/plain": [
       "<function TextIOWrapper.close()>"
      ]
     },
     "execution_count": 1,
     "metadata": {},
     "output_type": "execute_result"
    }
   ],
   "source": [
    "f = open('file1.txt', 'r')\n",
    "for i in f.readlines()[-5:]:\n",
    "    print(i)\n",
    "f.close"
   ]
  },
  {
   "cell_type": "markdown",
   "id": "6fd9680b",
   "metadata": {},
   "source": [
    "# Task 2 - Create a function for appending data into a file"
   ]
  },
  {
   "cell_type": "code",
   "execution_count": 2,
   "id": "6def849a",
   "metadata": {},
   "outputs": [
    {
     "name": "stdout",
     "output_type": "stream",
     "text": [
      "Enter file name: file1.txt\n",
      "Enter matter into file: pomegranate\n",
      "Data successfully appended\n",
      "apple\n",
      "banana\n",
      "corn\n",
      "dumplings\n",
      "eggs\n",
      "fruits\n",
      "mangoes\n",
      "Ice cream\n",
      "Cool drink\n",
      "pepsi\n",
      "kiwi\n",
      "pomegranate\n"
     ]
    }
   ],
   "source": [
    "def insert(file, info):\n",
    "    with open(file, 'a') as f:\n",
    "        f.write(\"\\n\" + info)\n",
    "        print(\"Data successfully appended\")\n",
    "        f.close()\n",
    "    with open(file, 'r') as f:\n",
    "        print(f.read())\n",
    "        f.close()\n",
    "        \n",
    "\n",
    "file = str(input(\"Enter file name: \"))\n",
    "info = str(input(\"Enter matter into file: \"))\n",
    "\n",
    "insert(file, info)"
   ]
  },
  {
   "cell_type": "markdown",
   "id": "c1a67927",
   "metadata": {},
   "source": [
    "# Task 3 - Create a program for updating a word in the file"
   ]
  },
  {
   "cell_type": "code",
   "execution_count": 3,
   "id": "b860d3e3",
   "metadata": {},
   "outputs": [
    {
     "name": "stdout",
     "output_type": "stream",
     "text": [
      "Enter file name: file1.txt\n",
      "Enter the string to be replaced: eggs\n",
      "Enter the second string: pies\n"
     ]
    }
   ],
   "source": [
    "import re\n",
    "\n",
    "file = str(input(\"Enter file name: \"))\n",
    "info_1 = str(input(\"Enter the string to be replaced: \"))\n",
    "info_2 = str(input(\"Enter the second string: \"))\n",
    "\n",
    "with open(file, 'r+') as f:\n",
    "    info = f.read()\n",
    "    info = re.sub(info_1, info_2, info)\n",
    "    f.seek(0)\n",
    "    f.write(info)\n",
    "    f.close()"
   ]
  },
  {
   "cell_type": "code",
   "execution_count": 4,
   "id": "489383c2",
   "metadata": {},
   "outputs": [
    {
     "name": "stdout",
     "output_type": "stream",
     "text": [
      "apple\n",
      "banana\n",
      "corn\n",
      "dumplings\n",
      "pies\n",
      "fruits\n",
      "mangoes\n",
      "Ice cream\n",
      "Cool drink\n",
      "pepsi\n",
      "kiwi\n",
      "pomegranate\n"
     ]
    }
   ],
   "source": [
    "f = open('file1.txt', 'r')\n",
    "print(f.read())"
   ]
  }
 ],
 "metadata": {
  "kernelspec": {
   "display_name": "Python 3",
   "language": "python",
   "name": "python3"
  },
  "language_info": {
   "codemirror_mode": {
    "name": "ipython",
    "version": 3
   },
   "file_extension": ".py",
   "mimetype": "text/x-python",
   "name": "python",
   "nbconvert_exporter": "python",
   "pygments_lexer": "ipython3",
   "version": "3.7.4"
  }
 },
 "nbformat": 4,
 "nbformat_minor": 5
}
