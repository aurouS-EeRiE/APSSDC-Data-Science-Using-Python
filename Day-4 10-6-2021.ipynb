{
 "cells": [
  {
   "cell_type": "markdown",
   "id": "e30bd3a2",
   "metadata": {},
   "source": [
    "# Task\n",
    "- Take input from the user.\n",
    "- Check the length of the string even or odd.\n",
    "- If the string length is odd access one middle character.\n",
    "- If the string length is even access two middle characters."
   ]
  },
  {
   "cell_type": "code",
   "execution_count": 2,
   "id": "c73f9543",
   "metadata": {},
   "outputs": [
    {
     "name": "stdout",
     "output_type": "stream",
     "text": [
      "tiger\n",
      "Length of string is 5\n",
      "g\n"
     ]
    }
   ],
   "source": [
    "string = str(input())\n",
    "print(\"Length of string is {}\".format(len(string)))\n",
    "if len(string) % 2 == 0:\n",
    "    print(string[len(string)//2 - 1], string[len(string)//2])\n",
    "else:\n",
    "    print(string[len(string)//2])"
   ]
  },
  {
   "cell_type": "code",
   "execution_count": 3,
   "id": "3d31e2c3",
   "metadata": {},
   "outputs": [
    {
     "name": "stdout",
     "output_type": "stream",
     "text": [
      "lion\n",
      "Length of string is 4\n",
      "i o\n"
     ]
    }
   ],
   "source": [
    "string = str(input())\n",
    "print(\"Length of string is {}\".format(len(string)))\n",
    "if len(string) % 2 == 0:\n",
    "    print(string[len(string)//2 - 1], string[len(string)//2])\n",
    "else:\n",
    "    print(string[len(string)//2])"
   ]
  }
 ],
 "metadata": {
  "kernelspec": {
   "display_name": "Python 3",
   "language": "python",
   "name": "python3"
  },
  "language_info": {
   "codemirror_mode": {
    "name": "ipython",
    "version": 3
   },
   "file_extension": ".py",
   "mimetype": "text/x-python",
   "name": "python",
   "nbconvert_exporter": "python",
   "pygments_lexer": "ipython3",
   "version": "3.7.4"
  }
 },
 "nbformat": 4,
 "nbformat_minor": 5
}
