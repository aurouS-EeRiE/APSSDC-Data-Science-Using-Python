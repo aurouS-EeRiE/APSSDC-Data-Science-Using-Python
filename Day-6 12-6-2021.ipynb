{
 "cells": [
  {
   "cell_type": "markdown",
   "id": "981165ec",
   "metadata": {},
   "source": [
    "# Write a Python script to print a dictionary where the keys are numbers between 1 and 15 (both included) and the values are square of keys"
   ]
  },
  {
   "cell_type": "code",
   "execution_count": 5,
   "id": "ca401d03",
   "metadata": {},
   "outputs": [
    {
     "name": "stdout",
     "output_type": "stream",
     "text": [
      "{1: 1, 2: 4, 3: 9, 4: 16, 5: 25, 6: 36, 7: 49, 8: 64, 9: 81, 10: 100, 11: 121, 12: 144, 13: 169, 14: 196, 15: 225}\n"
     ]
    }
   ],
   "source": [
    "dic = dict()\n",
    "for i in range(1, 16):\n",
    "    dic[i] = i**2\n",
    "print(dic)"
   ]
  },
  {
   "cell_type": "markdown",
   "id": "252c11f0",
   "metadata": {},
   "source": [
    "# Write a Python program to map two lists into a dictionary"
   ]
  },
  {
   "cell_type": "code",
   "execution_count": 7,
   "id": "7a181ff8",
   "metadata": {},
   "outputs": [
    {
     "name": "stdout",
     "output_type": "stream",
     "text": [
      "{1: 'a', 2: 'b', 3: 'c', 4: 'd', 5: 'e'}\n"
     ]
    }
   ],
   "source": [
    "ls_1 = [1, 2, 3, 4, 5]\n",
    "ls_2 = ['a', 'b', 'c', 'd', 'e']\n",
    "dic = dict(zip(ls_1, ls_2))\n",
    "print(dic)"
   ]
  },
  {
   "cell_type": "markdown",
   "id": "f08a6eaa",
   "metadata": {},
   "source": [
    "# Write a Python program to sort a list alphabetically in a dictionary\n",
    "input : {'n1': [2, 3, 1], 'n2': [5, 1, 2], 'n3': [3, 2, 4]} <br>\n",
    "output : {'n1': [1, 2, 3], 'n2': [1, 2, 5], 'n3': [2, 3, 4]}"
   ]
  },
  {
   "cell_type": "code",
   "execution_count": 10,
   "id": "a5f389ff",
   "metadata": {},
   "outputs": [
    {
     "name": "stdout",
     "output_type": "stream",
     "text": [
      "{'n1': [1, 2, 3], 'n2': [1, 2, 5], 'n3': [2, 3, 4]}\n"
     ]
    }
   ],
   "source": [
    "dic = {'n1': [2, 3, 1], 'n2': [5, 1, 2], 'n3': [3, 2, 4]}\n",
    "print({x: sorted(y) for x, y in dic.items()})"
   ]
  }
 ],
 "metadata": {
  "kernelspec": {
   "display_name": "Python 3",
   "language": "python",
   "name": "python3"
  },
  "language_info": {
   "codemirror_mode": {
    "name": "ipython",
    "version": 3
   },
   "file_extension": ".py",
   "mimetype": "text/x-python",
   "name": "python",
   "nbconvert_exporter": "python",
   "pygments_lexer": "ipython3",
   "version": "3.7.4"
  }
 },
 "nbformat": 4,
 "nbformat_minor": 5
}
