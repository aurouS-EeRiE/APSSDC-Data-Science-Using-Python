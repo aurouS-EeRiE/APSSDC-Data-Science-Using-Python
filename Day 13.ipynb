{
 "cells": [
  {
   "cell_type": "markdown",
   "id": "4d9a21f6",
   "metadata": {},
   "source": [
    "# Create arrays with all the data types available in numpy"
   ]
  },
  {
   "cell_type": "code",
   "execution_count": 1,
   "id": "7213d328",
   "metadata": {},
   "outputs": [
    {
     "name": "stdout",
     "output_type": "stream",
     "text": [
      "[21 42 43 90]\n",
      "int32\n"
     ]
    }
   ],
   "source": [
    "#Datatype integer\n",
    "\n",
    "import numpy as np\n",
    "a = np.array([21, 42, 43, 90], dtype = 'int_')\n",
    "print(a)\n",
    "print(a.dtype)"
   ]
  },
  {
   "cell_type": "code",
   "execution_count": 2,
   "id": "1c91a7f6",
   "metadata": {},
   "outputs": [
    {
     "name": "stdout",
     "output_type": "stream",
     "text": [
      "[False False  True  True]\n",
      "bool\n"
     ]
    }
   ],
   "source": [
    "#Datatype bool\n",
    "\n",
    "a = np.array([False, False, True, True], dtype = 'bool_')\n",
    "print(a)\n",
    "print(a.dtype)"
   ]
  },
  {
   "cell_type": "code",
   "execution_count": 3,
   "id": "66024d00",
   "metadata": {},
   "outputs": [
    {
     "name": "stdout",
     "output_type": "stream",
     "text": [
      "[ 23.6    2.94 332.3   34.6 ]\n",
      "float64\n"
     ]
    }
   ],
   "source": [
    "#Datatype float\n",
    "\n",
    "a = np.array([23.6, 2.94, 332.3, 34.6], dtype = 'float_')\n",
    "print(a)\n",
    "print(a.dtype)"
   ]
  },
  {
   "cell_type": "code",
   "execution_count": 4,
   "id": "f2611e48",
   "metadata": {},
   "outputs": [
    {
     "name": "stdout",
     "output_type": "stream",
     "text": [
      "[1.+3.j  2.+4.j  6.+8.7j 8.+3.4j]\n",
      "complex128\n"
     ]
    }
   ],
   "source": [
    "#Datatype complex\n",
    "\n",
    "a = np.array([16+3j, 26+4j, 64+8.7j, 18+3.4j], dtype = 'complex_')\n",
    "print(a)\n",
    "print(a.dtype)"
   ]
  },
  {
   "cell_type": "code",
   "execution_count": 5,
   "id": "5d350a64",
   "metadata": {},
   "outputs": [
    {
     "name": "stdout",
     "output_type": "stream",
     "text": [
      "[b'a' b'b' b'c' b'd']\n",
      "|S1\n"
     ]
    }
   ],
   "source": [
    "#Datatype string\n",
    "\n",
    "a = np.array(['a', 'b', 'c', 'd'], dtype = 'S')\n",
    "print(a)\n",
    "print(a.dtype)"
   ]
  },
  {
   "cell_type": "code",
   "execution_count": 9,
   "id": "94d07a29",
   "metadata": {},
   "outputs": [
    {
     "name": "stdout",
     "output_type": "stream",
     "text": [
      "[[451 32]\n",
      " [36 42]\n",
      " [4.65 7.42]\n",
      " ['candice' 'Ferb']]\n",
      "object\n"
     ]
    }
   ],
   "source": [
    "#Datatype object\n",
    "\n",
    "a = np.array([[451, 32], [36, 42], [4.65, 7.42], ['candice', 'Ferb']], dtype = 'O')\n",
    "print(a)\n",
    "print(a.dtype)"
   ]
  },
  {
   "cell_type": "code",
   "execution_count": 10,
   "id": "54cb4d8d",
   "metadata": {},
   "outputs": [
    {
     "name": "stdout",
     "output_type": "stream",
     "text": [
      "['1' '2' '3' '4']\n",
      "<U1\n"
     ]
    }
   ],
   "source": [
    "#Datatype unicode\n",
    "\n",
    "a = np.array([1, 2, 3, 4], dtype = 'U')\n",
    "print(a)\n",
    "print(a.dtype)"
   ]
  },
  {
   "cell_type": "code",
   "execution_count": 11,
   "id": "fad63a85",
   "metadata": {},
   "outputs": [
    {
     "name": "stdout",
     "output_type": "stream",
     "text": [
      "[1 2 3 4]\n",
      "uint8\n"
     ]
    }
   ],
   "source": [
    "#Datatype unsigned integer\n",
    "\n",
    "a = np.array([1, 2, 3, 4], dtype = 'uint8')\n",
    "print(a)\n",
    "print(a.dtype)"
   ]
  }
 ],
 "metadata": {
  "kernelspec": {
   "display_name": "Python 3",
   "language": "python",
   "name": "python3"
  },
  "language_info": {
   "codemirror_mode": {
    "name": "ipython",
    "version": 3
   },
   "file_extension": ".py",
   "mimetype": "text/x-python",
   "name": "python",
   "nbconvert_exporter": "python",
   "pygments_lexer": "ipython3",
   "version": "3.7.4"
  }
 },
 "nbformat": 4,
 "nbformat_minor": 5
}
