{
 "cells": [
  {
   "cell_type": "markdown",
   "id": "a6047159",
   "metadata": {},
   "source": [
    "# Task\n",
    "Write a python program that takes two lists and returns true if they have atleast one common member."
   ]
  },
  {
   "cell_type": "code",
   "execution_count": 5,
   "id": "147b2854",
   "metadata": {
    "scrolled": true
   },
   "outputs": [
    {
     "name": "stdout",
     "output_type": "stream",
     "text": [
      "a b c d\n",
      "d e f g\n",
      "True\n"
     ]
    }
   ],
   "source": [
    "ls_1 = list(input().split())\n",
    "ls_2 = list(input().split())\n",
    "ans = False\n",
    "for i in ls_1:\n",
    "    if i in ls_2:\n",
    "        ans = True\n",
    "        break\n",
    "print(ans)"
   ]
  },
  {
   "cell_type": "code",
   "execution_count": 6,
   "id": "ecca30c2",
   "metadata": {},
   "outputs": [
    {
     "name": "stdout",
     "output_type": "stream",
     "text": [
      "a b c d\n",
      "e f g h\n",
      "False\n"
     ]
    }
   ],
   "source": [
    "ls_1 = list(input().split())\n",
    "ls_2 = list(input().split())\n",
    "ans = False\n",
    "for i in ls_1:\n",
    "    if i in ls_2:\n",
    "        ans = True\n",
    "        break\n",
    "print(ans)"
   ]
  }
 ],
 "metadata": {
  "kernelspec": {
   "display_name": "Python 3",
   "language": "python",
   "name": "python3"
  },
  "language_info": {
   "codemirror_mode": {
    "name": "ipython",
    "version": 3
   },
   "file_extension": ".py",
   "mimetype": "text/x-python",
   "name": "python",
   "nbconvert_exporter": "python",
   "pygments_lexer": "ipython3",
   "version": "3.7.4"
  }
 },
 "nbformat": 4,
 "nbformat_minor": 5
}
